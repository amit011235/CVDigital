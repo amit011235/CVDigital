{
  "cells": [
    {
      "cell_type": "markdown",
      "metadata": {
        "id": "view-in-github",
        "colab_type": "text"
      },
      "source": [
        "<a href=\"https://colab.research.google.com/github/amit011235/CVDigital/blob/master/am.ipynb\" target=\"_parent\"><img src=\"https://colab.research.google.com/assets/colab-badge.svg\" alt=\"Open In Colab\"/></a>"
      ]
    },
    {
      "cell_type": "code",
      "execution_count": null,
      "metadata": {
        "id": "4ARnbnTQwuYB"
      },
      "outputs": [],
      "source": [
        "import numpy as np\n",
        "import pandas as pd\n",
        "# set files path\n",
        "y1951 = 'C:\\\\Users\\\\user\\\\anaconda3\\conda-meta\\ccss\\IMD_all years_csv-20220320T101728Z-001\\Maxtemp_1951.csv'\n",
        "y1952 = 'C:\\\\Users\\\\user\\\\anaconda3\\conda-meta\\ccss\\IMD_all years_csv-20220320T101728Z-001\\Maxtemp_1952.csv'\n",
        "y1953 = 'C:\\\\Users\\\\user\\\\anaconda3\\conda-meta\\ccss\\IMD_all years_csv-20220320T101728Z-001\\Maxtemp_1953.csv'\n",
        "y1954 = 'C:\\\\Users\\\\user\\\\anaconda3\\conda-meta\\ccss\\IMD_all years_csv-20220320T101728Z-001\\Maxtemp_1954.csv'\n",
        "y1955 = 'C:\\\\Users\\\\user\\\\anaconda3\\conda-meta\\ccss\\IMD_all years_csv-20220320T101728Z-001\\Maxtemp_1955.csv'\n",
        "y1956 = 'C:\\\\Users\\\\user\\\\anaconda3\\conda-meta\\ccss\\IMD_all years_csv-20220320T101728Z-001\\Maxtemp_1956.csv'\n",
        "y1957 = 'C:\\\\Users\\\\user\\\\anaconda3\\conda-meta\\ccss\\IMD_all years_csv-20220320T101728Z-001\\Maxtemp_1957.csv'\n",
        "y1958 = 'C:\\\\Users\\\\user\\\\anaconda3\\conda-meta\\ccss\\IMD_all years_csv-20220320T101728Z-001\\Maxtemp_1958.csv'\n",
        "y1959 = 'C:\\\\Users\\\\user\\\\anaconda3\\conda-meta\\ccss\\IMD_all years_csv-20220320T101728Z-001\\Maxtemp_1959.csv'\n",
        "y1960 = 'C:\\\\Users\\\\user\\\\anaconda3\\conda-meta\\ccss\\IMD_all years_csv-20220320T101728Z-001\\Maxtemp_1960.csv'\n",
        "y1961 = 'C:\\\\Users\\\\user\\\\anaconda3\\conda-meta\\ccss\\IMD_all years_csv-20220320T101728Z-001\\Maxtemp_1961.csv'\n",
        "y1962 = 'C:\\\\Users\\\\user\\\\anaconda3\\conda-meta\\ccss\\IMD_all years_csv-20220320T101728Z-001\\Maxtemp_1962.csv'\n",
        "y1963 = 'C:\\\\Users\\\\user\\\\anaconda3\\conda-meta\\ccss\\IMD_all years_csv-20220320T101728Z-001\\Maxtemp_1963.csv'\n",
        "y1964 = 'C:\\\\Users\\\\user\\\\anaconda3\\conda-meta\\ccss\\IMD_all years_csv-20220320T101728Z-001\\Maxtemp_1964.csv'\n",
        "y1965 = 'C:\\\\Users\\\\user\\\\anaconda3\\conda-meta\\ccss\\IMD_all years_csv-20220320T101728Z-001\\Maxtemp_1965.csv'\n",
        "y1966 = 'C:\\\\Users\\\\user\\\\anaconda3\\conda-meta\\ccss\\IMD_all years_csv-20220320T101728Z-001\\Maxtemp_1966.csv'\n",
        "y1967 = 'C:\\\\Users\\\\user\\\\anaconda3\\conda-meta\\ccss\\IMD_all years_csv-20220320T101728Z-001\\Maxtemp_1967.csv'\n",
        "y1968 = 'C:\\\\Users\\\\user\\\\anaconda3\\conda-meta\\ccss\\IMD_all years_csv-20220320T101728Z-001\\Maxtemp_1968.csv'\n",
        "y1969 = 'C:\\\\Users\\\\user\\\\anaconda3\\conda-meta\\ccss\\IMD_all years_csv-20220320T101728Z-001\\Maxtemp_1969.csv'\n",
        "y1970 = 'C:\\\\Users\\\\user\\\\anaconda3\\conda-meta\\ccss\\IMD_all years_csv-20220320T101728Z-001\\Maxtemp_1970.csv'\n",
        "y1971 = 'C:\\\\Users\\\\user\\\\anaconda3\\conda-meta\\ccss\\IMD_all years_csv-20220320T101728Z-001\\Maxtemp_1971.csv'\n",
        "y1972 = 'C:\\\\Users\\\\user\\\\anaconda3\\conda-meta\\ccss\\IMD_all years_csv-20220320T101728Z-001\\Maxtemp_1972.csv'\n",
        "y1973 = 'C:\\\\Users\\\\user\\\\anaconda3\\conda-meta\\ccss\\IMD_all years_csv-20220320T101728Z-001\\Maxtemp_1973.csv'\n",
        "y1974 = 'C:\\\\Users\\\\user\\\\anaconda3\\conda-meta\\ccss\\IMD_all years_csv-20220320T101728Z-001\\Maxtemp_1974.csv'\n",
        "y1975 = 'C:\\\\Users\\\\user\\\\anaconda3\\conda-meta\\ccss\\IMD_all years_csv-20220320T101728Z-001\\Maxtemp_1975.csv'\n",
        "y1976 = 'C:\\\\Users\\\\user\\\\anaconda3\\conda-meta\\ccss\\IMD_all years_csv-20220320T101728Z-001\\Maxtemp_1976.csv'\n",
        "y1977 = 'C:\\\\Users\\\\user\\\\anaconda3\\conda-meta\\ccss\\IMD_all years_csv-20220320T101728Z-001\\Maxtemp_1977.csv'\n",
        "y1978 = 'C:\\\\Users\\\\user\\\\anaconda3\\conda-meta\\ccss\\IMD_all years_csv-20220320T101728Z-001\\Maxtemp_1978.csv'\n",
        "y1979 = 'C:\\\\Users\\\\user\\\\anaconda3\\conda-meta\\ccss\\IMD_all years_csv-20220320T101728Z-001\\Maxtemp_1979.csv'\n",
        "y1980 = 'C:\\\\Users\\\\user\\\\anaconda3\\conda-meta\\ccss\\IMD_all years_csv-20220320T101728Z-001\\Maxtemp_1980.csv'\n",
        "y1981 = 'C:\\\\Users\\\\user\\\\anaconda3\\conda-meta\\ccss\\IMD_all years_csv-20220320T101728Z-001\\Maxtemp_1981.csv'\n",
        "y1982 = 'C:\\\\Users\\\\user\\\\anaconda3\\conda-meta\\ccss\\IMD_all years_csv-20220320T101728Z-001\\Maxtemp_1982.csv'\n",
        "y1983 = 'C:\\\\Users\\\\user\\\\anaconda3\\conda-meta\\ccss\\IMD_all years_csv-20220320T101728Z-001\\Maxtemp_1983.csv'\n",
        "y1984 = 'C:\\\\Users\\\\user\\\\anaconda3\\conda-meta\\ccss\\IMD_all years_csv-20220320T101728Z-001\\Maxtemp_1984.csv'\n",
        "y1985 = 'C:\\\\Users\\\\user\\\\anaconda3\\conda-meta\\ccss\\IMD_all years_csv-20220320T101728Z-001\\Maxtemp_1985.csv'\n",
        "y1986 = 'C:\\\\Users\\\\user\\\\anaconda3\\conda-meta\\ccss\\IMD_all years_csv-20220320T101728Z-001\\Maxtemp_1986.csv'\n",
        "y1987 = 'C:\\\\Users\\\\user\\\\anaconda3\\conda-meta\\ccss\\IMD_all years_csv-20220320T101728Z-001\\Maxtemp_1987.csv'\n",
        "y1988 = 'C:\\\\Users\\\\user\\\\anaconda3\\conda-meta\\ccss\\IMD_all years_csv-20220320T101728Z-001\\Maxtemp_1988.csv'\n",
        "y1989 = 'C:\\\\Users\\\\user\\\\anaconda3\\conda-meta\\ccss\\IMD_all years_csv-20220320T101728Z-001\\Maxtemp_1989.csv'\n",
        "y1990 = 'C:\\\\Users\\\\user\\\\anaconda3\\conda-meta\\ccss\\IMD_all years_csv-20220320T101728Z-001\\Maxtemp_1990.csv'\n",
        "y1991 = 'C:\\\\Users\\\\user\\\\anaconda3\\conda-meta\\ccss\\IMD_all years_csv-20220320T101728Z-001\\Maxtemp_1991.csv'\n",
        "y1992 = 'C:\\\\Users\\\\user\\\\anaconda3\\conda-meta\\ccss\\IMD_all years_csv-20220320T101728Z-001\\Maxtemp_1992.csv'\n",
        "y1993 = 'C:\\\\Users\\\\user\\\\anaconda3\\conda-meta\\ccss\\IMD_all years_csv-20220320T101728Z-001\\Maxtemp_1993.csv'\n",
        "y1994 = 'C:\\\\Users\\\\user\\\\anaconda3\\conda-meta\\ccss\\IMD_all years_csv-20220320T101728Z-001\\Maxtemp_1994.csv'\n",
        "y1995 = 'C:\\\\Users\\\\user\\\\anaconda3\\conda-meta\\ccss\\IMD_all years_csv-20220320T101728Z-001\\Maxtemp_1995.csv'\n",
        "y1996 = 'C:\\\\Users\\\\user\\\\anaconda3\\conda-meta\\ccss\\IMD_all years_csv-20220320T101728Z-001\\Maxtemp_1996.csv'\n",
        "y1997 = 'C:\\\\Users\\\\user\\\\anaconda3\\conda-meta\\ccss\\IMD_all years_csv-20220320T101728Z-001\\Maxtemp_1997.csv'\n",
        "y1998 = 'C:\\\\Users\\\\user\\\\anaconda3\\conda-meta\\ccss\\IMD_all years_csv-20220320T101728Z-001\\Maxtemp_1998.csv'\n",
        "y1999 = 'C:\\\\Users\\\\user\\\\anaconda3\\conda-meta\\ccss\\IMD_all years_csv-20220320T101728Z-001\\Maxtemp_1999.csv'\n",
        "y2000 = 'C:\\\\Users\\\\user\\\\anaconda3\\conda-meta\\ccss\\IMD_all years_csv-20220320T101728Z-001\\Maxtemp_2000.csv'\n",
        "y2001 = 'C:\\\\Users\\\\user\\\\anaconda3\\conda-meta\\ccss\\IMD_all years_csv-20220320T101728Z-001\\Maxtemp_2001.csv'\n",
        "y2002 = 'C:\\\\Users\\\\user\\\\anaconda3\\conda-meta\\ccss\\IMD_all years_csv-20220320T101728Z-001\\Maxtemp_2002.csv'\n",
        "y2003 = 'C:\\\\Users\\\\user\\\\anaconda3\\conda-meta\\ccss\\IMD_all years_csv-20220320T101728Z-001\\Maxtemp_2003.csv'\n",
        "y2004 = 'C:\\\\Users\\\\user\\\\anaconda3\\conda-meta\\ccss\\IMD_all years_csv-20220320T101728Z-001\\Maxtemp_2004.csv'\n",
        "y2005 = 'C:\\\\Users\\\\user\\\\anaconda3\\conda-meta\\ccss\\IMD_all years_csv-20220320T101728Z-001\\Maxtemp_2005.csv'\n",
        "y2006 = 'C:\\\\Users\\\\user\\\\anaconda3\\conda-meta\\ccss\\IMD_all years_csv-20220320T101728Z-001\\Maxtemp_2006.csv'\n",
        "y2007 = 'C:\\\\Users\\\\user\\\\anaconda3\\conda-meta\\ccss\\IMD_all years_csv-20220320T101728Z-001\\Maxtemp_2007.csv'\n",
        "y2008 = 'C:\\\\Users\\\\user\\\\anaconda3\\conda-meta\\ccss\\IMD_all years_csv-20220320T101728Z-001\\Maxtemp_2008.csv'\n",
        "y2009 = 'C:\\\\Users\\\\user\\\\anaconda3\\conda-meta\\ccss\\IMD_all years_csv-20220320T101728Z-001\\Maxtemp_2009.csv'\n",
        "y2010 = 'C:\\\\Users\\\\user\\\\anaconda3\\conda-meta\\ccss\\IMD_all years_csv-20220320T101728Z-001\\Maxtemp_2010.csv'\n",
        "y2011 = 'C:\\\\Users\\\\user\\\\anaconda3\\conda-meta\\ccss\\IMD_all years_csv-20220320T101728Z-001\\Maxtemp_2011.csv'\n",
        "y2012 = 'C:\\\\Users\\\\user\\\\anaconda3\\conda-meta\\ccss\\IMD_all years_csv-20220320T101728Z-001\\Maxtemp_2012.csv'\n",
        "y2013 = 'C:\\\\Users\\\\user\\\\anaconda3\\conda-meta\\ccss\\IMD_all years_csv-20220320T101728Z-001\\Maxtemp_2013.csv'\n",
        "y2014 = 'C:\\\\Users\\\\user\\\\anaconda3\\conda-meta\\ccss\\IMD_all years_csv-20220320T101728Z-001\\Maxtemp_2014.csv'\n",
        "y2015 = 'C:\\\\Users\\\\user\\\\anaconda3\\conda-meta\\ccss\\IMD_all years_csv-20220320T101728Z-001\\Maxtemp_2015.csv'\n",
        "y2016 = 'C:\\\\Users\\\\user\\\\anaconda3\\conda-meta\\ccss\\IMD_all years_csv-20220320T101728Z-001\\Maxtemp_2016.csv'\n",
        "y2017 = 'C:\\\\Users\\\\user\\\\anaconda3\\conda-meta\\ccss\\IMD_all years_csv-20220320T101728Z-001\\Maxtemp_2017.csv'\n",
        "y2018 = 'C:\\\\Users\\\\user\\\\anaconda3\\conda-meta\\ccss\\IMD_all years_csv-20220320T101728Z-001\\Maxtemp_2018.csv'\n",
        "y2019 = 'C:\\\\Users\\\\user\\\\anaconda3\\conda-meta\\ccss\\IMD_all years_csv-20220320T101728Z-001\\Maxtemp_2019.csv'\n",
        "y2020 = 'C:\\\\Users\\\\user\\\\anaconda3\\conda-meta\\ccss\\IMD_all years_csv-20220320T101728Z-001\\Maxtemp_2020.csv'\n",
        "\n",
        "\n",
        "print(\"*** Merging multiple csv files into a single pandas dataframe ***\")\n",
        "\n",
        "# merge files\n",
        "dataFrame = pd.concat(\n",
        "   map(pd.read_csv, [y1951, y1952, y1953, y1954, y1955, y1956, y1957, y1958, y1959, y1960, y1961, y1962, y1963, y1964, y1965, y1966, y1967, y1968, y1969, y1970, y1971, y1972, y1973, y1974, y1975, y1976, y1977, y1978, y1979, y1980, y1981, y1982, y1983, y1984, y1985, y1986, y1987, y1988, y1989, y1990, y1991, y1992, y1993, y1994, y1995, y1996, y1997, y1998, y1999, y2000, y2001, y2002, y2003, y2004, y2005, y2006, y2007, y2008, y2009, y2010, y2011, y2012, y2013, y2014, y2015, y2016, y2017, y2018, y2019, y2020]), ignore_index=False)\n",
        "print(dataFrame)"
      ]
    },
    {
      "cell_type": "markdown",
      "source": [
        "# New Section"
      ],
      "metadata": {
        "id": "JgQFB6GCyiyX"
      }
    },
    {
      "cell_type": "markdown",
      "source": [
        "# New Section"
      ],
      "metadata": {
        "id": "WIZdiymTw_Mq"
      }
    },
    {
      "cell_type": "code",
      "execution_count": null,
      "metadata": {
        "id": "u-0Q8KE2wuYW"
      },
      "outputs": [],
      "source": [
        "#for i in range(dataFrame[]):\n",
        "    #for j in range(dataFrame['year'])\n",
        "  #  print(dataframe['Day_1,N,50,0'])\n",
        "    "
      ]
    },
    {
      "cell_type": "code",
      "execution_count": null,
      "metadata": {
        "id": "atwnRQbXwuYZ"
      },
      "outputs": [],
      "source": [
        "#d = np.reshape(dataFrame,(78400, 368))\n",
        "#print(d)"
      ]
    },
    {
      "cell_type": "code",
      "execution_count": null,
      "metadata": {
        "id": "bQVLL3zuwuYb"
      },
      "outputs": [],
      "source": [
        "dataFrame.columns"
      ]
    },
    {
      "cell_type": "code",
      "execution_count": null,
      "metadata": {
        "id": "syyW9sMewuYc"
      },
      "outputs": [],
      "source": [
        "#sorted(dataFrame.columns)\n",
        "#pd.set_option('display.max_columns', None)\n",
        "#print(dataFrame.columns.tolist())"
      ]
    },
    {
      "cell_type": "code",
      "execution_count": null,
      "metadata": {
        "scrolled": true,
        "id": "0mSH1ULVwuYe"
      },
      "outputs": [],
      "source": [
        "cols = ['lat,N,19,11','long,N,19,11', 'Day_1,N,50,0', 'Day_2,N,50,0', 'Day_3,N,50,0', 'Day_4,N,50,0', 'Day_5,N,50,0', 'Day_6,N,50,0', 'Day_7,N,50,0', 'Day_8,N,50,0', 'Day_9,N,50,0', 'Day_10,N,50,0', 'Day_11,N,50,0', 'Day_12,N,50,0', 'Day_13,N,50,0', 'Day_14,N,50,0', 'Day_15,N,50,0', 'Day_16,N,50,0', 'Day_17,N,50,0', 'Day_18,N,50,0', 'Day_19,N,50,0', 'Day_20,N,50,0', 'Day_21,N,50,0', 'Day_22,N,50,0', 'Day_23,N,50,0', 'Day_24,N,50,0', 'Day_25,N,50,0', 'Day_26,N,50,0', 'Day_27,N,50,0', 'Day_28,N,50,0', 'Day_29,N,50,0', 'Day_30,N,50,0', 'Day_31,N,50,0', 'Day_32,N,50,0', 'Day_33,N,50,0', 'Day_34,N,50,0', 'Day_35,N,50,0', 'Day_36,N,50,0', 'Day_37,N,50,0', 'Day_38,N,50,0', 'Day_39,N,50,0', 'Day_40,N,50,0', 'Day_41,N,50,0', 'Day_42,N,50,0', 'Day_43,N,50,0', 'Day_44,N,50,0', 'Day_45,N,50,0', 'Day_46,N,50,0', 'Day_47,N,50,0', 'Day_48,N,50,0', 'Day_49,N,50,0', 'Day_50,N,50,0', 'Day_51,N,50,0', 'Day_52,N,50,0', 'Day_53,N,50,0', 'Day_54,N,50,0', 'Day_55,N,50,0', 'Day_56,N,50,0', 'Day_57,N,50,0', 'Day_58,N,50,0', 'Day_59,N,50,0', 'Day_60,N,50,0', 'Day_61,N,50,0', 'Day_62,N,50,0', 'Day_63,N,50,0', 'Day_64,N,50,0', 'Day_65,N,50,0', 'Day_66,N,50,0', 'Day_67,N,50,0', 'Day_68,N,50,0', 'Day_69,N,50,0', 'Day_70,N,50,0', 'Day_71,N,50,0', 'Day_72,N,50,0', 'Day_73,N,50,0', 'Day_74,N,50,0', 'Day_75,N,50,0', 'Day_76,N,50,0', 'Day_77,N,50,0', 'Day_78,N,50,0', 'Day_79,N,50,0', 'Day_80,N,50,0', 'Day_81,N,50,0', 'Day_82,N,50,0', 'Day_83,N,50,0', 'Day_84,N,50,0', 'Day_85,N,50,0', 'Day_86,N,50,0', 'Day_87,N,50,0', 'Day_88,N,50,0', 'Day_89,N,50,0', 'Day_90,N,50,0', 'Day_91,N,50,0', 'Day_92,N,50,0', 'Day_93,N,50,0', 'Day_94,N,50,0', 'Day_95,N,50,0', 'Day_96,N,50,0', 'Day_97,N,50,0', 'Day_98,N,50,0', 'Day_99,N,50,0', 'Day_100,N,50,0', 'Day_101,N,50,0', 'Day_102,N,50,0', 'Day_103,N,50,0', 'Day_104,N,50,0', 'Day_105,N,50,0', 'Day_106,N,50,0', 'Day_107,N,50,0', 'Day_108,N,50,0', 'Day_109,N,50,0', 'Day_110,N,50,0', 'Day_111,N,50,0', 'Day_112,N,50,0', 'Day_113,N,50,0', 'Day_114,N,50,0', 'Day_115,N,50,0', 'Day_116,N,50,0', 'Day_117,N,50,0', 'Day_118,N,50,0', 'Day_119,N,50,0', 'Day_120,N,50,0', 'Day_121,N,50,0', 'Day_122,N,50,0', 'Day_123,N,50,0', 'Day_124,N,50,0', 'Day_125,N,50,0', 'Day_126,N,50,0', 'Day_127,N,50,0', 'Day_128,N,50,0', 'Day_129,N,50,0', 'Day_130,N,50,0', 'Day_131,N,50,0', 'Day_132,N,50,0', 'Day_133,N,50,0', 'Day_134,N,50,0', 'Day_135,N,50,0', 'Day_136,N,50,0', 'Day_137,N,50,0', 'Day_138,N,50,0', 'Day_139,N,50,0', 'Day_140,N,50,0', 'Day_141,N,50,0', 'Day_142,N,50,0', 'Day_143,N,50,0', 'Day_144,N,50,0', 'Day_145,N,50,0', 'Day_146,N,50,0', 'Day_147,N,50,0', 'Day_148,N,50,0', 'Day_149,N,50,0', 'Day_150,N,50,0', 'Day_151,N,50,0', 'Day_152,N,50,0', 'Day_153,N,50,0', 'Day_154,N,50,0', 'Day_155,N,50,0', 'Day_156,N,50,0', 'Day_157,N,50,0', 'Day_158,N,50,0', 'Day_159,N,50,0', 'Day_160,N,50,0', 'Day_161,N,50,0', 'Day_162,N,50,0', 'Day_163,N,50,0', 'Day_164,N,50,0', 'Day_165,N,50,0', 'Day_166,N,50,0', 'Day_167,N,50,0', 'Day_168,N,50,0', 'Day_169,N,50,0', 'Day_170,N,50,0', 'Day_171,N,50,0', 'Day_172,N,50,0', 'Day_173,N,50,0', 'Day_174,N,50,0', 'Day_175,N,50,0', 'Day_176,N,50,0', 'Day_177,N,50,0', 'Day_178,N,50,0', 'Day_179,N,50,0', 'Day_180,N,50,0', 'Day_181,N,50,0', 'Day_182,N,50,0', 'Day_183,N,50,0', 'Day_184,N,50,0', 'Day_185,N,50,0', 'Day_186,N,50,0', 'Day_187,N,50,0', 'Day_188,N,50,0', 'Day_189,N,50,0', 'Day_190,N,50,0', 'Day_191,N,50,0', 'Day_192,N,50,0', 'Day_193,N,50,0', 'Day_194,N,50,0', 'Day_195,N,50,0', 'Day_196,N,50,0', 'Day_197,N,50,0', 'Day_198,N,50,0', 'Day_199,N,50,0', 'Day_200,N,50,0', 'Day_201,N,50,0', 'Day_202,N,50,0', 'Day_203,N,50,0', 'Day_204,N,50,0', 'Day_205,N,50,0', 'Day_206,N,50,0', 'Day_207,N,50,0', 'Day_208,N,50,0', 'Day_209,N,50,0', 'Day_210,N,50,0', 'Day_211,N,50,0', 'Day_212,N,50,0', 'Day_213,N,50,0', 'Day_214,N,50,0', 'Day_215,N,50,0', 'Day_216,N,50,0', 'Day_217,N,50,0', 'Day_218,N,50,0', 'Day_219,N,50,0', 'Day_220,N,50,0', 'Day_221,N,50,0', 'Day_222,N,50,0', 'Day_223,N,50,0', 'Day_224,N,50,0', 'Day_225,N,50,0', 'Day_226,N,50,0', 'Day_227,N,50,0', 'Day_228,N,50,0', 'Day_229,N,50,0', 'Day_230,N,50,0', 'Day_231,N,50,0', 'Day_232,N,50,0', 'Day_233,N,50,0', 'Day_234,N,50,0', 'Day_235,N,50,0', 'Day_236,N,50,0', 'Day_237,N,50,0', 'Day_238,N,50,0', 'Day_239,N,50,0', 'Day_240,N,50,0', 'Day_241,N,50,0', 'Day_242,N,50,0', 'Day_243,N,50,0', 'Day_244,N,50,0', 'Day_245,N,50,0', 'Day_246,N,50,0', 'Day_247,N,50,0', 'Day_248,N,50,0', 'Day_249,N,50,0', 'Day_250,N,50,0', 'Day_251,N,50,0', 'Day_252,N,50,0', 'Day_253,N,50,0', 'Day_254,N,50,0', 'Day_255,N,50,0', 'Day_256,N,50,0', 'Day_257,N,50,0', 'Day_258,N,50,0', 'Day_259,N,50,0', 'Day_260,N,50,0', 'Day_261,N,50,0', 'Day_262,N,50,0', 'Day_263,N,50,0', 'Day_264,N,50,0', 'Day_265,N,50,0', 'Day_266,N,50,0', 'Day_267,N,50,0', 'Day_268,N,50,0', 'Day_269,N,50,0', 'Day_270,N,50,0', 'Day_271,N,50,0', 'Day_272,N,50,0', 'Day_273,N,50,0', 'Day_274,N,50,0', 'Day_275,N,50,0', 'Day_276,N,50,0', 'Day_277,N,50,0', 'Day_278,N,50,0', 'Day_279,N,50,0', 'Day_280,N,50,0', 'Day_281,N,50,0', 'Day_282,N,50,0', 'Day_283,N,50,0', 'Day_284,N,50,0', 'Day_285,N,50,0', 'Day_286,N,50,0', 'Day_287,N,50,0', 'Day_288,N,50,0', 'Day_289,N,50,0', 'Day_290,N,50,0', 'Day_291,N,50,0', 'Day_292,N,50,0', 'Day_293,N,50,0', 'Day_294,N,50,0', 'Day_295,N,50,0', 'Day_296,N,50,0', 'Day_297,N,50,0', 'Day_298,N,50,0', 'Day_299,N,50,0', 'Day_300,N,50,0', 'Day_301,N,50,0', 'Day_302,N,50,0', 'Day_303,N,50,0', 'Day_304,N,50,0', 'Day_305,N,50,0', 'Day_306,N,50,0', 'Day_307,N,50,0', 'Day_308,N,50,0', 'Day_309,N,50,0', 'Day_310,N,50,0', 'Day_311,N,50,0', 'Day_312,N,50,0', 'Day_313,N,50,0', 'Day_314,N,50,0', 'Day_315,N,50,0', 'Day_316,N,50,0', 'Day_317,N,50,0', 'Day_318,N,50,0', 'Day_319,N,50,0', 'Day_320,N,50,0', 'Day_321,N,50,0', 'Day_322,N,50,0', 'Day_323,N,50,0', 'Day_324,N,50,0', 'Day_325,N,50,0', 'Day_326,N,50,0', 'Day_327,N,50,0', 'Day_328,N,50,0', 'Day_329,N,50,0', 'Day_330,N,50,0', 'Day_331,N,50,0', 'Day_332,N,50,0', 'Day_333,N,50,0', 'Day_334,N,50,0', 'Day_335,N,50,0', 'Day_336,N,50,0', 'Day_337,N,50,0', 'Day_338,N,50,0', 'Day_339,N,50,0', 'Day_340,N,50,0', 'Day_341,N,50,0', 'Day_342,N,50,0', 'Day_343,N,50,0', 'Day_344,N,50,0', 'Day_345,N,50,0', 'Day_346,N,50,0', 'Day_347,N,50,0', 'Day_348,N,50,0', 'Day_349,N,50,0', 'Day_350,N,50,0', 'Day_351,N,50,0', 'Day_352,N,50,0', 'Day_353,N,50,0', 'Day_354,N,50,0', 'Day_355,N,50,0', 'Day_356,N,50,0', 'Day_357,N,50,0', 'Day_358,N,50,0', 'Day_359,N,50,0', 'Day_360,N,50,0', 'Day_361,N,50,0', 'Day_362,N,50,0', 'Day_363,N,50,0', 'Day_364,N,50,0', 'Day_365,N,50,0', 'Day_366,N,50,0']\n",
        "cols = dataFrame[cols]\n",
        "#'lat,N,19,11','long,N,19,11'"
      ]
    },
    {
      "cell_type": "code",
      "execution_count": null,
      "metadata": {
        "id": "XG7nr6JRwuYi"
      },
      "outputs": [],
      "source": [
        "#cols.to_csv('C:\\\\Users\\\\user\\\\anaconda3\\conda-meta\\ccss\\colmc.csv', index = False)"
      ]
    },
    {
      "cell_type": "code",
      "execution_count": null,
      "metadata": {
        "id": "wbbyXXikwuYj"
      },
      "outputs": [],
      "source": [
        "arrays = [\n",
        "\n",
        "    dataFrame['lat,N,19,11'],\n",
        "\n",
        "    dataFrame['long,N,19,11'],\n",
        "\n",
        "]\n",
        "\n",
        "tuples = list(zip(*arrays))\n",
        "tuples"
      ]
    },
    {
      "cell_type": "code",
      "execution_count": null,
      "metadata": {
        "id": "MhsOegy-wuYk"
      },
      "outputs": [],
      "source": [
        "\n",
        "index = pd.MultiIndex.from_tuples(tuples, names=[\"first\", \"second\"])\n",
        "index"
      ]
    },
    {
      "cell_type": "code",
      "execution_count": null,
      "metadata": {
        "id": "20MLqxkOwuYn"
      },
      "outputs": [],
      "source": [
        "\n",
        "#s = pd.Series(dataFrame['Day_1,N,50,0'], index=index)\n",
        "#s"
      ]
    },
    {
      "cell_type": "code",
      "execution_count": null,
      "metadata": {
        "id": "gAmxp-zmwuYo"
      },
      "outputs": [],
      "source": [
        "df = dataFrame[cols].set_index(index)"
      ]
    },
    {
      "cell_type": "code",
      "execution_count": null,
      "metadata": {
        "id": "Qf7XuPZswuYq"
      },
      "outputs": [],
      "source": [
        "dataFrame[cols].set_index(index).stack()"
      ]
    },
    {
      "cell_type": "code",
      "execution_count": null,
      "metadata": {
        "id": "rJ2_OduewuYr"
      },
      "outputs": [],
      "source": [
        "dataFrame[cols].set_index(index).stack()"
      ]
    },
    {
      "cell_type": "code",
      "execution_count": null,
      "metadata": {
        "id": "YAr0MZGgwuYs"
      },
      "outputs": [],
      "source": [
        "dataFrame[cols].set_index(index).stack().reset_index()"
      ]
    },
    {
      "cell_type": "code",
      "execution_count": null,
      "metadata": {
        "id": "4wmCtm7VwuYs"
      },
      "outputs": [],
      "source": [
        "df.to_csv()"
      ]
    },
    {
      "cell_type": "code",
      "execution_count": null,
      "metadata": {
        "id": "Ku5KoMtnwuYt"
      },
      "outputs": [],
      "source": [
        "df.to_csv('C:\\\\Users\\\\user\\\\anaconda3\\conda-meta\\ccss\\cold.csv', index = False)"
      ]
    },
    {
      "cell_type": "code",
      "execution_count": null,
      "metadata": {
        "id": "XHIEvSGlwuYu"
      },
      "outputs": [],
      "source": [
        ""
      ]
    }
  ],
  "metadata": {
    "kernelspec": {
      "display_name": "Python 3",
      "language": "python",
      "name": "python3"
    },
    "language_info": {
      "codemirror_mode": {
        "name": "ipython",
        "version": 3
      },
      "file_extension": ".py",
      "mimetype": "text/x-python",
      "name": "python",
      "nbconvert_exporter": "python",
      "pygments_lexer": "ipython3",
      "version": "3.8.5"
    },
    "colab": {
      "name": "am.ipynb",
      "provenance": [],
      "include_colab_link": true
    }
  },
  "nbformat": 4,
  "nbformat_minor": 0
}