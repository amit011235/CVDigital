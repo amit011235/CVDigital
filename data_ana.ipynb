{
  "nbformat": 4,
  "nbformat_minor": 0,
  "metadata": {
    "colab": {
      "name": "data_ana.ipynb",
      "private_outputs": true,
      "provenance": [],
      "toc_visible": true,
      "authorship_tag": "ABX9TyMf1KTBxCYW8J7QAOdGqaYF",
      "include_colab_link": true
    },
    "kernelspec": {
      "name": "python3",
      "display_name": "Python 3"
    },
    "language_info": {
      "name": "python"
    }
  },
  "cells": [
    {
      "cell_type": "markdown",
      "metadata": {
        "id": "view-in-github",
        "colab_type": "text"
      },
      "source": [
        "<a href=\"https://colab.research.google.com/github/amit011235/CVDigital/blob/master/data_ana.ipynb\" target=\"_parent\"><img src=\"https://colab.research.google.com/assets/colab-badge.svg\" alt=\"Open In Colab\"/></a>"
      ]
    },
    {
      "cell_type": "markdown",
      "source": [
        "Mega dATA cleaning and shorting"
      ],
      "metadata": {
        "id": "6kruO8LhtpXO"
      }
    },
    {
      "cell_type": "code",
      "source": [
        "from google.colab import drive\n",
        "drive.mount('/content/gdrive')\n"
      ],
      "metadata": {
        "id": "9GXa4mcz_0WC"
      },
      "execution_count": null,
      "outputs": []
    },
    {
      "cell_type": "code",
      "execution_count": null,
      "metadata": {
        "id": "tHVx6k24ppUd"
      },
      "outputs": [],
      "source": [
        "import numpy as np\n",
        "import pandas as pd\n",
        "df = pd.read_csv(\"/content/gdrive/My Drive/Colab Notebooks/calls.csv\")\n",
        "df"
      ]
    },
    {
      "cell_type": "code",
      "source": [
        "cols = ['Day_1,N,50,0', 'Day_2,N,50,0', 'Day_3,N,50,0', 'Day_4,N,50,0', 'Day_5,N,50,0', 'Day_6,N,50,0', 'Day_7,N,50,0', 'Day_8,N,50,0', 'Day_9,N,50,0', 'Day_10,N,50,0', 'Day_11,N,50,0', 'Day_12,N,50,0', 'Day_13,N,50,0', 'Day_14,N,50,0', 'Day_15,N,50,0', 'Day_16,N,50,0', 'Day_17,N,50,0', 'Day_18,N,50,0', 'Day_19,N,50,0', 'Day_20,N,50,0', 'Day_21,N,50,0', 'Day_22,N,50,0', 'Day_23,N,50,0', 'Day_24,N,50,0', 'Day_25,N,50,0', 'Day_26,N,50,0', 'Day_27,N,50,0', 'Day_28,N,50,0', 'Day_29,N,50,0', 'Day_30,N,50,0', 'Day_31,N,50,0', 'Day_32,N,50,0', 'Day_33,N,50,0', 'Day_34,N,50,0', 'Day_35,N,50,0', 'Day_36,N,50,0', 'Day_37,N,50,0', 'Day_38,N,50,0', 'Day_39,N,50,0', 'Day_40,N,50,0', 'Day_41,N,50,0', 'Day_42,N,50,0', 'Day_43,N,50,0', 'Day_44,N,50,0', 'Day_45,N,50,0', 'Day_46,N,50,0', 'Day_47,N,50,0', 'Day_48,N,50,0', 'Day_49,N,50,0', 'Day_50,N,50,0', 'Day_51,N,50,0', 'Day_52,N,50,0', 'Day_53,N,50,0', 'Day_54,N,50,0', 'Day_55,N,50,0', 'Day_56,N,50,0', 'Day_57,N,50,0', 'Day_58,N,50,0', 'Day_59,N,50,0', 'Day_60,N,50,0', 'Day_61,N,50,0', 'Day_62,N,50,0', 'Day_63,N,50,0', 'Day_64,N,50,0', 'Day_65,N,50,0', 'Day_66,N,50,0', 'Day_67,N,50,0', 'Day_68,N,50,0', 'Day_69,N,50,0', 'Day_70,N,50,0', 'Day_71,N,50,0', 'Day_72,N,50,0', 'Day_73,N,50,0', 'Day_74,N,50,0', 'Day_75,N,50,0', 'Day_76,N,50,0', 'Day_77,N,50,0', 'Day_78,N,50,0', 'Day_79,N,50,0', 'Day_80,N,50,0', 'Day_81,N,50,0', 'Day_82,N,50,0', 'Day_83,N,50,0', 'Day_84,N,50,0', 'Day_85,N,50,0', 'Day_86,N,50,0', 'Day_87,N,50,0', 'Day_88,N,50,0', 'Day_89,N,50,0', 'Day_90,N,50,0', 'Day_91,N,50,0', 'Day_92,N,50,0', 'Day_93,N,50,0', 'Day_94,N,50,0', 'Day_95,N,50,0', 'Day_96,N,50,0', 'Day_97,N,50,0', 'Day_98,N,50,0', 'Day_99,N,50,0', 'Day_100,N,50,0', 'Day_101,N,50,0', 'Day_102,N,50,0', 'Day_103,N,50,0', 'Day_104,N,50,0', 'Day_105,N,50,0', 'Day_106,N,50,0', 'Day_107,N,50,0', 'Day_108,N,50,0', 'Day_109,N,50,0', 'Day_110,N,50,0', 'Day_111,N,50,0', 'Day_112,N,50,0', 'Day_113,N,50,0', 'Day_114,N,50,0', 'Day_115,N,50,0', 'Day_116,N,50,0', 'Day_117,N,50,0', 'Day_118,N,50,0', 'Day_119,N,50,0', 'Day_120,N,50,0', 'Day_121,N,50,0', 'Day_122,N,50,0', 'Day_123,N,50,0', 'Day_124,N,50,0', 'Day_125,N,50,0', 'Day_126,N,50,0', 'Day_127,N,50,0', 'Day_128,N,50,0', 'Day_129,N,50,0', 'Day_130,N,50,0', 'Day_131,N,50,0', 'Day_132,N,50,0', 'Day_133,N,50,0', 'Day_134,N,50,0', 'Day_135,N,50,0', 'Day_136,N,50,0', 'Day_137,N,50,0', 'Day_138,N,50,0', 'Day_139,N,50,0', 'Day_140,N,50,0', 'Day_141,N,50,0', 'Day_142,N,50,0', 'Day_143,N,50,0', 'Day_144,N,50,0', 'Day_145,N,50,0', 'Day_146,N,50,0', 'Day_147,N,50,0', 'Day_148,N,50,0', 'Day_149,N,50,0', 'Day_150,N,50,0', 'Day_151,N,50,0', 'Day_152,N,50,0', 'Day_153,N,50,0', 'Day_154,N,50,0', 'Day_155,N,50,0', 'Day_156,N,50,0', 'Day_157,N,50,0', 'Day_158,N,50,0', 'Day_159,N,50,0', 'Day_160,N,50,0', 'Day_161,N,50,0', 'Day_162,N,50,0', 'Day_163,N,50,0', 'Day_164,N,50,0', 'Day_165,N,50,0', 'Day_166,N,50,0', 'Day_167,N,50,0', 'Day_168,N,50,0', 'Day_169,N,50,0', 'Day_170,N,50,0', 'Day_171,N,50,0', 'Day_172,N,50,0', 'Day_173,N,50,0', 'Day_174,N,50,0', 'Day_175,N,50,0', 'Day_176,N,50,0', 'Day_177,N,50,0', 'Day_178,N,50,0', 'Day_179,N,50,0', 'Day_180,N,50,0', 'Day_181,N,50,0', 'Day_182,N,50,0', 'Day_183,N,50,0', 'Day_184,N,50,0', 'Day_185,N,50,0', 'Day_186,N,50,0', 'Day_187,N,50,0', 'Day_188,N,50,0', 'Day_189,N,50,0', 'Day_190,N,50,0', 'Day_191,N,50,0', 'Day_192,N,50,0', 'Day_193,N,50,0', 'Day_194,N,50,0', 'Day_195,N,50,0', 'Day_196,N,50,0', 'Day_197,N,50,0', 'Day_198,N,50,0', 'Day_199,N,50,0', 'Day_200,N,50,0', 'Day_201,N,50,0', 'Day_202,N,50,0', 'Day_203,N,50,0', 'Day_204,N,50,0', 'Day_205,N,50,0', 'Day_206,N,50,0', 'Day_207,N,50,0', 'Day_208,N,50,0', 'Day_209,N,50,0', 'Day_210,N,50,0', 'Day_211,N,50,0', 'Day_212,N,50,0', 'Day_213,N,50,0', 'Day_214,N,50,0', 'Day_215,N,50,0', 'Day_216,N,50,0', 'Day_217,N,50,0', 'Day_218,N,50,0', 'Day_219,N,50,0', 'Day_220,N,50,0', 'Day_221,N,50,0', 'Day_222,N,50,0', 'Day_223,N,50,0', 'Day_224,N,50,0', 'Day_225,N,50,0', 'Day_226,N,50,0', 'Day_227,N,50,0', 'Day_228,N,50,0', 'Day_229,N,50,0', 'Day_230,N,50,0', 'Day_231,N,50,0', 'Day_232,N,50,0', 'Day_233,N,50,0', 'Day_234,N,50,0', 'Day_235,N,50,0', 'Day_236,N,50,0', 'Day_237,N,50,0', 'Day_238,N,50,0', 'Day_239,N,50,0', 'Day_240,N,50,0', 'Day_241,N,50,0', 'Day_242,N,50,0', 'Day_243,N,50,0', 'Day_244,N,50,0', 'Day_245,N,50,0', 'Day_246,N,50,0', 'Day_247,N,50,0', 'Day_248,N,50,0', 'Day_249,N,50,0', 'Day_250,N,50,0', 'Day_251,N,50,0', 'Day_252,N,50,0', 'Day_253,N,50,0', 'Day_254,N,50,0', 'Day_255,N,50,0', 'Day_256,N,50,0', 'Day_257,N,50,0', 'Day_258,N,50,0', 'Day_259,N,50,0', 'Day_260,N,50,0', 'Day_261,N,50,0', 'Day_262,N,50,0', 'Day_263,N,50,0', 'Day_264,N,50,0', 'Day_265,N,50,0', 'Day_266,N,50,0', 'Day_267,N,50,0', 'Day_268,N,50,0', 'Day_269,N,50,0', 'Day_270,N,50,0', 'Day_271,N,50,0', 'Day_272,N,50,0', 'Day_273,N,50,0', 'Day_274,N,50,0', 'Day_275,N,50,0', 'Day_276,N,50,0', 'Day_277,N,50,0', 'Day_278,N,50,0', 'Day_279,N,50,0', 'Day_280,N,50,0', 'Day_281,N,50,0', 'Day_282,N,50,0', 'Day_283,N,50,0', 'Day_284,N,50,0', 'Day_285,N,50,0', 'Day_286,N,50,0', 'Day_287,N,50,0', 'Day_288,N,50,0', 'Day_289,N,50,0', 'Day_290,N,50,0', 'Day_291,N,50,0', 'Day_292,N,50,0', 'Day_293,N,50,0', 'Day_294,N,50,0', 'Day_295,N,50,0', 'Day_296,N,50,0', 'Day_297,N,50,0', 'Day_298,N,50,0', 'Day_299,N,50,0', 'Day_300,N,50,0', 'Day_301,N,50,0', 'Day_302,N,50,0', 'Day_303,N,50,0', 'Day_304,N,50,0', 'Day_305,N,50,0', 'Day_306,N,50,0', 'Day_307,N,50,0', 'Day_308,N,50,0', 'Day_309,N,50,0', 'Day_310,N,50,0', 'Day_311,N,50,0', 'Day_312,N,50,0', 'Day_313,N,50,0', 'Day_314,N,50,0', 'Day_315,N,50,0', 'Day_316,N,50,0', 'Day_317,N,50,0', 'Day_318,N,50,0', 'Day_319,N,50,0', 'Day_320,N,50,0', 'Day_321,N,50,0', 'Day_322,N,50,0', 'Day_323,N,50,0', 'Day_324,N,50,0', 'Day_325,N,50,0', 'Day_326,N,50,0', 'Day_327,N,50,0', 'Day_328,N,50,0', 'Day_329,N,50,0', 'Day_330,N,50,0', 'Day_331,N,50,0', 'Day_332,N,50,0', 'Day_333,N,50,0', 'Day_334,N,50,0', 'Day_335,N,50,0', 'Day_336,N,50,0', 'Day_337,N,50,0', 'Day_338,N,50,0', 'Day_339,N,50,0', 'Day_340,N,50,0', 'Day_341,N,50,0', 'Day_342,N,50,0', 'Day_343,N,50,0', 'Day_344,N,50,0', 'Day_345,N,50,0', 'Day_346,N,50,0', 'Day_347,N,50,0', 'Day_348,N,50,0', 'Day_349,N,50,0', 'Day_350,N,50,0', 'Day_351,N,50,0', 'Day_352,N,50,0', 'Day_353,N,50,0', 'Day_354,N,50,0', 'Day_355,N,50,0', 'Day_356,N,50,0', 'Day_357,N,50,0', 'Day_358,N,50,0', 'Day_359,N,50,0', 'Day_360,N,50,0', 'Day_361,N,50,0', 'Day_362,N,50,0', 'Day_363,N,50,0', 'Day_364,N,50,0', 'Day_365,N,50,0', 'Day_366,N,50,0']\n"
      ],
      "metadata": {
        "id": "8Ez5DNP4v3AC"
      },
      "execution_count": null,
      "outputs": []
    },
    {
      "cell_type": "code",
      "source": [
        "arrays = [df['lat,N,19,11'],df['long,N,19,11'], df['year']]\n",
        "\n",
        "tuples = list(zip(*arrays))\n",
        "tuples"
      ],
      "metadata": {
        "id": "j4Bq_4H61KHG"
      },
      "execution_count": null,
      "outputs": []
    },
    {
      "cell_type": "code",
      "source": [
        "index = pd.MultiIndex.from_tuples(tuples, names=[\"lat\", \"long\", \"year\"])\n",
        "df[cols].set_index(index).stack()"
      ],
      "metadata": {
        "id": "KXM8dvmO1PVP"
      },
      "execution_count": null,
      "outputs": []
    },
    {
      "cell_type": "code",
      "source": [
        "df[cols].set_index(index).stack()\n",
        "df[cols].set_index(index).stack()"
      ],
      "metadata": {
        "id": "u3rJyNTf1YIO"
      },
      "execution_count": null,
      "outputs": []
    },
    {
      "cell_type": "code",
      "source": [
        "d = df[cols].set_index(index).stack().reset_index()\n",
        "d"
      ],
      "metadata": {
        "id": "EN_0PHlQ2Ao4"
      },
      "execution_count": null,
      "outputs": []
    },
    {
      "cell_type": "code",
      "source": [
        "d.to_csv('/content/gdrive/My Drive/Colab Notebooks/new_temp.csv', index = False)"
      ],
      "metadata": {
        "id": "Mb_OCPju2aHC"
      },
      "execution_count": null,
      "outputs": []
    }
  ]
}